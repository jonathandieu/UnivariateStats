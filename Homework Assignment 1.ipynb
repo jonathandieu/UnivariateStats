{
 "cells": [
  {
   "cell_type": "code",
   "execution_count": null,
   "id": "e9dde3cb",
   "metadata": {
    "scrolled": true,
    "vscode": {
     "languageId": "r"
    }
   },
   "outputs": [
    {
     "ename": "",
     "evalue": "",
     "output_type": "error",
     "traceback": [
      "\u001b[1;31mFailed to start the Kernel. \n",
      "\u001b[1;31mError in loadNamespace(x) : there is no package called ‘IRkernel’\n",
      "\u001b[1;31mCalls: loadNamespace -> withRestarts -> withOneRestart -> doWithOneRestart\n",
      "\u001b[1;31mExecution halted. \n",
      "\u001b[1;31mView Jupyter <a href='command:jupyter.viewOutput'>log</a> for further details."
     ]
    }
   ],
   "source": [
    "walmart_data = read.csv(\"WalmartSalesData.csv\")"
   ]
  },
  {
   "cell_type": "code",
   "execution_count": 4,
   "id": "49a4f5d6",
   "metadata": {
    "vscode": {
     "languageId": "r"
    }
   },
   "outputs": [
    {
     "name": "stdout",
     "output_type": "stream",
     "text": [
      "  Store       Date Temperature Fuel_Price MarkDown1 MarkDown2 MarkDown3\n",
      "1     1 2010-02-05       42.31      2.572        NA        NA        NA\n",
      "2     1 2010-02-12       38.51      2.548        NA        NA        NA\n",
      "3     1 2010-02-19       39.93      2.514        NA        NA        NA\n",
      "4     1 2010-02-26       46.63      2.561        NA        NA        NA\n",
      "5     1 2010-03-05       46.50      2.625        NA        NA        NA\n",
      "6     1 2010-03-12       57.79      2.667        NA        NA        NA\n",
      "  MarkDown4 MarkDown5      CPI Unemployment IsHoliday\n",
      "1        NA        NA 211.0964        8.106     FALSE\n",
      "2        NA        NA 211.2422        8.106      TRUE\n",
      "3        NA        NA 211.2891        8.106     FALSE\n",
      "4        NA        NA 211.3196        8.106     FALSE\n",
      "5        NA        NA 211.3501        8.106     FALSE\n",
      "6        NA        NA 211.3806        8.106     FALSE\n",
      "     Store       Date Temperature Fuel_Price MarkDown1 MarkDown2 MarkDown3\n",
      "8185    45 2013-06-21       70.13      3.626   4989.34    385.31    178.56\n",
      "8186    45 2013-06-28       76.05      3.639   4842.29    975.03      3.00\n",
      "8187    45 2013-07-05       77.50      3.614   9090.48   2268.58    582.74\n",
      "8188    45 2013-07-12       79.37      3.614   3789.94   1827.31     85.72\n",
      "8189    45 2013-07-19       82.84      3.737   2961.49   1047.07    204.19\n",
      "8190    45 2013-07-26       76.06      3.804    212.02    851.73      2.06\n",
      "     MarkDown4 MarkDown5 CPI Unemployment IsHoliday\n",
      "8185   2463.42   3117.94  NA           NA     FALSE\n",
      "8186   2449.97   3169.69  NA           NA     FALSE\n",
      "8187   5797.47   1514.93  NA           NA     FALSE\n",
      "8188    744.84   2150.36  NA           NA     FALSE\n",
      "8189    363.00   1059.46  NA           NA     FALSE\n",
      "8190     10.88   1864.57  NA           NA     FALSE\n"
     ]
    }
   ],
   "source": [
    "print(head(walmart_data,n = 6))\n",
    "\n",
    "print(tail(walmart_data, n = 6))"
   ]
  },
  {
   "cell_type": "code",
   "execution_count": 10,
   "id": "34370349",
   "metadata": {
    "vscode": {
     "languageId": "r"
    }
   },
   "outputs": [
    {
     "data": {
      "text/html": [
       "<ol class=list-inline>\n",
       "\t<li>8190</li>\n",
       "\t<li>12</li>\n",
       "</ol>\n"
      ],
      "text/latex": [
       "\\begin{enumerate*}\n",
       "\\item 8190\n",
       "\\item 12\n",
       "\\end{enumerate*}\n"
      ],
      "text/markdown": [
       "1. 8190\n",
       "2. 12\n",
       "\n",
       "\n"
      ],
      "text/plain": [
       "[1] 8190   12"
      ]
     },
     "metadata": {},
     "output_type": "display_data"
    }
   ],
   "source": [
    "(dim(walmart_data))"
   ]
  },
  {
   "cell_type": "code",
   "execution_count": 15,
   "id": "03c738da",
   "metadata": {
    "vscode": {
     "languageId": "r"
    }
   },
   "outputs": [
    {
     "data": {
      "text/html": [
       "24040"
      ],
      "text/latex": [
       "24040"
      ],
      "text/markdown": [
       "24040"
      ],
      "text/plain": [
       "[1] 24040"
      ]
     },
     "metadata": {},
     "output_type": "display_data"
    }
   ],
   "source": [
    "sum(is.na(walmart_data))"
   ]
  },
  {
   "cell_type": "code",
   "execution_count": null,
   "id": "9295168b",
   "metadata": {
    "vscode": {
     "languageId": "r"
    }
   },
   "outputs": [],
   "source": []
  },
  {
   "cell_type": "code",
   "execution_count": 17,
   "id": "139ba961",
   "metadata": {
    "vscode": {
     "languageId": "r"
    }
   },
   "outputs": [],
   "source": [
    "credit_card_data = read.csv(\"CreditCardData.csv\")"
   ]
  },
  {
   "cell_type": "code",
   "execution_count": 21,
   "id": "9e3dcb3f",
   "metadata": {
    "vscode": {
     "languageId": "r"
    }
   },
   "outputs": [
    {
     "data": {
      "text/html": [
       "0"
      ],
      "text/latex": [
       "0"
      ],
      "text/markdown": [
       "0"
      ],
      "text/plain": [
       "[1] 0"
      ]
     },
     "metadata": {},
     "output_type": "display_data"
    },
    {
     "data": {
      "text/html": [
       "<ol class=list-inline>\n",
       "\t<li>9709</li>\n",
       "\t<li>20</li>\n",
       "</ol>\n"
      ],
      "text/latex": [
       "\\begin{enumerate*}\n",
       "\\item 9709\n",
       "\\item 20\n",
       "\\end{enumerate*}\n"
      ],
      "text/markdown": [
       "1. 9709\n",
       "2. 20\n",
       "\n",
       "\n"
      ],
      "text/plain": [
       "[1] 9709   20"
      ]
     },
     "metadata": {},
     "output_type": "display_data"
    }
   ],
   "source": [
    "sum(is.na(credit_card_data))\n",
    "dim(credit_card_data)"
   ]
  }
 ],
 "metadata": {
  "kernelspec": {
   "display_name": "R",
   "language": "R",
   "name": "ir"
  },
  "language_info": {
   "codemirror_mode": "r",
   "file_extension": ".r",
   "mimetype": "text/x-r-source",
   "name": "R",
   "pygments_lexer": "r",
   "version": "3.6.1"
  }
 },
 "nbformat": 4,
 "nbformat_minor": 5
}
