{
 "cells": [
  {
   "cell_type": "code",
   "execution_count": null,
   "metadata": {
    "vscode": {
     "languageId": "r"
    }
   },
   "outputs": [
    {
     "ename": "",
     "evalue": "",
     "output_type": "error",
     "traceback": [
      "\u001b[1;31mFailed to start the Kernel. \n",
      "\u001b[1;31mError in loadNamespace(i, c(lib.loc, .libPaths()), versionCheck = vI[[i]]) : \n",
      "\u001b[1;31m  there is no package called ‘rlang’\n",
      "\u001b[1;31mCalls: loadNamespace ... loadNamespace -> withRestarts -> withOneRestart -> doWithOneRestart\n",
      "\u001b[1;31mExecution halted. \n",
      "\u001b[1;31mView Jupyter <a href='command:jupyter.viewOutput'>log</a> for further details."
     ]
    }
   ],
   "source": [
    "install.packages(\"dplyr\")"
   ]
  },
  {
   "cell_type": "code",
   "execution_count": null,
   "metadata": {
    "vscode": {
     "languageId": "r"
    }
   },
   "outputs": [
    {
     "ename": "",
     "evalue": "",
     "output_type": "error",
     "traceback": [
      "\u001b[1;31mFailed to start the Kernel. \n",
      "\u001b[1;31mError in loadNamespace(i, c(lib.loc, .libPaths()), versionCheck = vI[[i]]) : \n",
      "\u001b[1;31m  there is no package called ‘rlang’\n",
      "\u001b[1;31mCalls: loadNamespace ... loadNamespace -> withRestarts -> withOneRestart -> doWithOneRestart\n",
      "\u001b[1;31mExecution halted. \n",
      "\u001b[1;31mView Jupyter <a href='command:jupyter.viewOutput'>log</a> for further details."
     ]
    }
   ],
   "source": [
    "library(\"dplyr\")"
   ]
  },
  {
   "cell_type": "code",
   "execution_count": 35,
   "metadata": {
    "vscode": {
     "languageId": "r"
    }
   },
   "outputs": [
    {
     "name": "stdout",
     "output_type": "stream",
     "text": [
      "[1] \"Reading in the data.\"\n"
     ]
    },
    {
     "data": {
      "text/html": [
       "<table class=\"dataframe\">\n",
       "<caption>A data.frame: 6 × 18</caption>\n",
       "<thead>\n",
       "\t<tr><th></th><th scope=col>adm0_id</th><th scope=col>adm0_name</th><th scope=col>adm1_id</th><th scope=col>adm1_name</th><th scope=col>mkt_id</th><th scope=col>mkt_name</th><th scope=col>cm_id</th><th scope=col>cm_name</th><th scope=col>cur_id</th><th scope=col>cur_name</th><th scope=col>pt_id</th><th scope=col>pt_name</th><th scope=col>um_id</th><th scope=col>um_name</th><th scope=col>mp_month</th><th scope=col>mp_year</th><th scope=col>mp_price</th><th scope=col>mp_commoditysource</th></tr>\n",
       "\t<tr><th></th><th scope=col>&lt;dbl&gt;</th><th scope=col>&lt;chr&gt;</th><th scope=col>&lt;int&gt;</th><th scope=col>&lt;chr&gt;</th><th scope=col>&lt;int&gt;</th><th scope=col>&lt;chr&gt;</th><th scope=col>&lt;int&gt;</th><th scope=col>&lt;chr&gt;</th><th scope=col>&lt;dbl&gt;</th><th scope=col>&lt;chr&gt;</th><th scope=col>&lt;int&gt;</th><th scope=col>&lt;chr&gt;</th><th scope=col>&lt;int&gt;</th><th scope=col>&lt;chr&gt;</th><th scope=col>&lt;int&gt;</th><th scope=col>&lt;int&gt;</th><th scope=col>&lt;dbl&gt;</th><th scope=col>&lt;lgl&gt;</th></tr>\n",
       "</thead>\n",
       "<tbody>\n",
       "\t<tr><th scope=row>1</th><td>1</td><td>Afghanistan</td><td>272</td><td>Badakhshan</td><td>266</td><td>Fayzabad</td><td>55</td><td>Bread - Retail</td><td>0</td><td>AFN</td><td>15</td><td>Retail</td><td>5</td><td>KG</td><td>1</td><td>2014</td><td>50</td><td>NA</td></tr>\n",
       "\t<tr><th scope=row>2</th><td>1</td><td>Afghanistan</td><td>272</td><td>Badakhshan</td><td>266</td><td>Fayzabad</td><td>55</td><td>Bread - Retail</td><td>0</td><td>AFN</td><td>15</td><td>Retail</td><td>5</td><td>KG</td><td>2</td><td>2014</td><td>50</td><td>NA</td></tr>\n",
       "\t<tr><th scope=row>3</th><td>1</td><td>Afghanistan</td><td>272</td><td>Badakhshan</td><td>266</td><td>Fayzabad</td><td>55</td><td>Bread - Retail</td><td>0</td><td>AFN</td><td>15</td><td>Retail</td><td>5</td><td>KG</td><td>3</td><td>2014</td><td>50</td><td>NA</td></tr>\n",
       "\t<tr><th scope=row>4</th><td>1</td><td>Afghanistan</td><td>272</td><td>Badakhshan</td><td>266</td><td>Fayzabad</td><td>55</td><td>Bread - Retail</td><td>0</td><td>AFN</td><td>15</td><td>Retail</td><td>5</td><td>KG</td><td>4</td><td>2014</td><td>50</td><td>NA</td></tr>\n",
       "\t<tr><th scope=row>5</th><td>1</td><td>Afghanistan</td><td>272</td><td>Badakhshan</td><td>266</td><td>Fayzabad</td><td>55</td><td>Bread - Retail</td><td>0</td><td>AFN</td><td>15</td><td>Retail</td><td>5</td><td>KG</td><td>5</td><td>2014</td><td>50</td><td>NA</td></tr>\n",
       "\t<tr><th scope=row>6</th><td>1</td><td>Afghanistan</td><td>272</td><td>Badakhshan</td><td>266</td><td>Fayzabad</td><td>55</td><td>Bread - Retail</td><td>0</td><td>AFN</td><td>15</td><td>Retail</td><td>5</td><td>KG</td><td>6</td><td>2014</td><td>50</td><td>NA</td></tr>\n",
       "</tbody>\n",
       "</table>\n"
      ],
      "text/latex": [
       "A data.frame: 6 × 18\n",
       "\\begin{tabular}{r|llllllllllllllllll}\n",
       "  & adm0\\_id & adm0\\_name & adm1\\_id & adm1\\_name & mkt\\_id & mkt\\_name & cm\\_id & cm\\_name & cur\\_id & cur\\_name & pt\\_id & pt\\_name & um\\_id & um\\_name & mp\\_month & mp\\_year & mp\\_price & mp\\_commoditysource\\\\\n",
       "  & <dbl> & <chr> & <int> & <chr> & <int> & <chr> & <int> & <chr> & <dbl> & <chr> & <int> & <chr> & <int> & <chr> & <int> & <int> & <dbl> & <lgl>\\\\\n",
       "\\hline\n",
       "\t1 & 1 & Afghanistan & 272 & Badakhshan & 266 & Fayzabad & 55 & Bread - Retail & 0 & AFN & 15 & Retail & 5 & KG & 1 & 2014 & 50 & NA\\\\\n",
       "\t2 & 1 & Afghanistan & 272 & Badakhshan & 266 & Fayzabad & 55 & Bread - Retail & 0 & AFN & 15 & Retail & 5 & KG & 2 & 2014 & 50 & NA\\\\\n",
       "\t3 & 1 & Afghanistan & 272 & Badakhshan & 266 & Fayzabad & 55 & Bread - Retail & 0 & AFN & 15 & Retail & 5 & KG & 3 & 2014 & 50 & NA\\\\\n",
       "\t4 & 1 & Afghanistan & 272 & Badakhshan & 266 & Fayzabad & 55 & Bread - Retail & 0 & AFN & 15 & Retail & 5 & KG & 4 & 2014 & 50 & NA\\\\\n",
       "\t5 & 1 & Afghanistan & 272 & Badakhshan & 266 & Fayzabad & 55 & Bread - Retail & 0 & AFN & 15 & Retail & 5 & KG & 5 & 2014 & 50 & NA\\\\\n",
       "\t6 & 1 & Afghanistan & 272 & Badakhshan & 266 & Fayzabad & 55 & Bread - Retail & 0 & AFN & 15 & Retail & 5 & KG & 6 & 2014 & 50 & NA\\\\\n",
       "\\end{tabular}\n"
      ],
      "text/markdown": [
       "\n",
       "A data.frame: 6 × 18\n",
       "\n",
       "| <!--/--> | adm0_id &lt;dbl&gt; | adm0_name &lt;chr&gt; | adm1_id &lt;int&gt; | adm1_name &lt;chr&gt; | mkt_id &lt;int&gt; | mkt_name &lt;chr&gt; | cm_id &lt;int&gt; | cm_name &lt;chr&gt; | cur_id &lt;dbl&gt; | cur_name &lt;chr&gt; | pt_id &lt;int&gt; | pt_name &lt;chr&gt; | um_id &lt;int&gt; | um_name &lt;chr&gt; | mp_month &lt;int&gt; | mp_year &lt;int&gt; | mp_price &lt;dbl&gt; | mp_commoditysource &lt;lgl&gt; |\n",
       "|---|---|---|---|---|---|---|---|---|---|---|---|---|---|---|---|---|---|---|\n",
       "| 1 | 1 | Afghanistan | 272 | Badakhshan | 266 | Fayzabad | 55 | Bread - Retail | 0 | AFN | 15 | Retail | 5 | KG | 1 | 2014 | 50 | NA |\n",
       "| 2 | 1 | Afghanistan | 272 | Badakhshan | 266 | Fayzabad | 55 | Bread - Retail | 0 | AFN | 15 | Retail | 5 | KG | 2 | 2014 | 50 | NA |\n",
       "| 3 | 1 | Afghanistan | 272 | Badakhshan | 266 | Fayzabad | 55 | Bread - Retail | 0 | AFN | 15 | Retail | 5 | KG | 3 | 2014 | 50 | NA |\n",
       "| 4 | 1 | Afghanistan | 272 | Badakhshan | 266 | Fayzabad | 55 | Bread - Retail | 0 | AFN | 15 | Retail | 5 | KG | 4 | 2014 | 50 | NA |\n",
       "| 5 | 1 | Afghanistan | 272 | Badakhshan | 266 | Fayzabad | 55 | Bread - Retail | 0 | AFN | 15 | Retail | 5 | KG | 5 | 2014 | 50 | NA |\n",
       "| 6 | 1 | Afghanistan | 272 | Badakhshan | 266 | Fayzabad | 55 | Bread - Retail | 0 | AFN | 15 | Retail | 5 | KG | 6 | 2014 | 50 | NA |\n",
       "\n"
      ],
      "text/plain": [
       "  adm0_id adm0_name   adm1_id adm1_name  mkt_id mkt_name cm_id cm_name       \n",
       "1 1       Afghanistan 272     Badakhshan 266    Fayzabad 55    Bread - Retail\n",
       "2 1       Afghanistan 272     Badakhshan 266    Fayzabad 55    Bread - Retail\n",
       "3 1       Afghanistan 272     Badakhshan 266    Fayzabad 55    Bread - Retail\n",
       "4 1       Afghanistan 272     Badakhshan 266    Fayzabad 55    Bread - Retail\n",
       "5 1       Afghanistan 272     Badakhshan 266    Fayzabad 55    Bread - Retail\n",
       "6 1       Afghanistan 272     Badakhshan 266    Fayzabad 55    Bread - Retail\n",
       "  cur_id cur_name pt_id pt_name um_id um_name mp_month mp_year mp_price\n",
       "1 0      AFN      15    Retail  5     KG      1        2014    50      \n",
       "2 0      AFN      15    Retail  5     KG      2        2014    50      \n",
       "3 0      AFN      15    Retail  5     KG      3        2014    50      \n",
       "4 0      AFN      15    Retail  5     KG      4        2014    50      \n",
       "5 0      AFN      15    Retail  5     KG      5        2014    50      \n",
       "6 0      AFN      15    Retail  5     KG      6        2014    50      \n",
       "  mp_commoditysource\n",
       "1 NA                \n",
       "2 NA                \n",
       "3 NA                \n",
       "4 NA                \n",
       "5 NA                \n",
       "6 NA                "
      ]
     },
     "metadata": {},
     "output_type": "display_data"
    },
    {
     "data": {
      "text/html": [
       "<style>\n",
       ".list-inline {list-style: none; margin:0; padding: 0}\n",
       ".list-inline>li {display: inline-block}\n",
       ".list-inline>li:not(:last-child)::after {content: \"\\00b7\"; padding: 0 .5ex}\n",
       "</style>\n",
       "<ol class=list-inline><li>1560551</li><li>18</li></ol>\n"
      ],
      "text/latex": [
       "\\begin{enumerate*}\n",
       "\\item 1560551\n",
       "\\item 18\n",
       "\\end{enumerate*}\n"
      ],
      "text/markdown": [
       "1. 1560551\n",
       "2. 18\n",
       "\n",
       "\n"
      ],
      "text/plain": [
       "[1] 1560551      18"
      ]
     },
     "metadata": {},
     "output_type": "display_data"
    },
    {
     "data": {
      "text/plain": [
       "    adm0_id         adm0_name            adm1_id        adm1_name        \n",
       " Min.   :    1.0   Length:1560551     Min.   :     0   Length:1560551    \n",
       " 1st Qu.:  108.0   Class :character   1st Qu.:  1572   Class :character  \n",
       " Median :  155.0   Mode  :character   Median :  2205   Mode  :character  \n",
       " Mean   :  984.4                      Mean   : 27542                     \n",
       " 3rd Qu.:  205.0                      3rd Qu.:  3433                     \n",
       " Max.   :70001.0                      Max.   :900022                     \n",
       "     mkt_id       mkt_name             cm_id         cm_name         \n",
       " Min.   :  80   Length:1560551     Min.   : 50.0   Length:1560551    \n",
       " 1st Qu.: 534   Class :character   1st Qu.: 71.0   Class :character  \n",
       " Median :1075   Mode  :character   Median :120.0   Mode  :character  \n",
       " Mean   :1265                      Mean   :188.2                     \n",
       " 3rd Qu.:1895                      3rd Qu.:277.0                     \n",
       " Max.   :4083                      Max.   :838.0                     \n",
       "     cur_id    cur_name             pt_id         pt_name         \n",
       " Min.   :0   Length:1560551     Min.   :14.00   Length:1560551    \n",
       " 1st Qu.:0   Class :character   1st Qu.:15.00   Class :character  \n",
       " Median :0   Mode  :character   Median :15.00   Mode  :character  \n",
       " Mean   :0                      Mean   :14.91                     \n",
       " 3rd Qu.:0                      3rd Qu.:15.00                     \n",
       " Max.   :0                      Max.   :18.00                     \n",
       "     um_id          um_name             mp_month         mp_year    \n",
       " Min.   :  5.00   Length:1560551     Min.   : 1.000   Min.   :1990  \n",
       " 1st Qu.:  5.00   Class :character   1st Qu.: 3.000   1st Qu.:2013  \n",
       " Median :  5.00   Mode  :character   Median : 6.000   Median :2016  \n",
       " Mean   : 14.43                      Mean   : 6.354   Mean   :2015  \n",
       " 3rd Qu.:  9.00                      3rd Qu.: 9.000   3rd Qu.:2018  \n",
       " Max.   :164.00                      Max.   :12.000   Max.   :2020  \n",
       "    mp_price        mp_commoditysource\n",
       " Min.   :       0   Mode:logical      \n",
       " 1st Qu.:      35   NA's:1560551      \n",
       " Median :     206                     \n",
       " Mean   :    6137                     \n",
       " 3rd Qu.:     825                     \n",
       " Max.   :21777780                     "
      ]
     },
     "metadata": {},
     "output_type": "display_data"
    }
   ],
   "source": [
    "print(\"Reading in the data.\")\n",
    "data = read.csv(\"./wfp_food_prices_database.csv/wfp_food_prices_database.csv\")\n",
    "head(data)\n",
    "dim(data)\n",
    "(summary(data))\n"
   ]
  },
  {
   "cell_type": "code",
   "execution_count": 36,
   "metadata": {
    "vscode": {
     "languageId": "r"
    }
   },
   "outputs": [],
   "source": [
    "pruned_data <- subset(data, select = -c(mp_commoditysource))\n",
    "\n",
    "rice_data = pruned_data[pruned_data$cm_id == 64,]\n",
    "rice_no_dupes = rice_data[!duplicated(rice_data$adm1_id),]\n"
   ]
  },
  {
   "cell_type": "code",
   "execution_count": 37,
   "metadata": {
    "vscode": {
     "languageId": "r"
    }
   },
   "outputs": [
    {
     "data": {
      "text/html": [
       "'data.frame'"
      ],
      "text/latex": [
       "'data.frame'"
      ],
      "text/markdown": [
       "'data.frame'"
      ],
      "text/plain": [
       "[1] \"data.frame\""
      ]
     },
     "metadata": {},
     "output_type": "display_data"
    },
    {
     "data": {
      "text/html": [
       "<style>\n",
       ".list-inline {list-style: none; margin:0; padding: 0}\n",
       ".list-inline>li {display: inline-block}\n",
       ".list-inline>li:not(:last-child)::after {content: \"\\00b7\"; padding: 0 .5ex}\n",
       "</style>\n",
       "<ol class=list-inline><li>'adm0_id'</li><li>'adm0_name'</li><li>'adm1_id'</li><li>'adm1_name'</li><li>'mkt_id'</li><li>'mkt_name'</li><li>'cm_id'</li><li>'cm_name'</li><li>'cur_id'</li><li>'cur_name'</li><li>'pt_id'</li><li>'pt_name'</li><li>'um_id'</li><li>'um_name'</li><li>'mp_month'</li><li>'mp_year'</li><li>'mp_price'</li><li>'mp_commoditysource'</li></ol>\n"
      ],
      "text/latex": [
       "\\begin{enumerate*}\n",
       "\\item 'adm0\\_id'\n",
       "\\item 'adm0\\_name'\n",
       "\\item 'adm1\\_id'\n",
       "\\item 'adm1\\_name'\n",
       "\\item 'mkt\\_id'\n",
       "\\item 'mkt\\_name'\n",
       "\\item 'cm\\_id'\n",
       "\\item 'cm\\_name'\n",
       "\\item 'cur\\_id'\n",
       "\\item 'cur\\_name'\n",
       "\\item 'pt\\_id'\n",
       "\\item 'pt\\_name'\n",
       "\\item 'um\\_id'\n",
       "\\item 'um\\_name'\n",
       "\\item 'mp\\_month'\n",
       "\\item 'mp\\_year'\n",
       "\\item 'mp\\_price'\n",
       "\\item 'mp\\_commoditysource'\n",
       "\\end{enumerate*}\n"
      ],
      "text/markdown": [
       "1. 'adm0_id'\n",
       "2. 'adm0_name'\n",
       "3. 'adm1_id'\n",
       "4. 'adm1_name'\n",
       "5. 'mkt_id'\n",
       "6. 'mkt_name'\n",
       "7. 'cm_id'\n",
       "8. 'cm_name'\n",
       "9. 'cur_id'\n",
       "10. 'cur_name'\n",
       "11. 'pt_id'\n",
       "12. 'pt_name'\n",
       "13. 'um_id'\n",
       "14. 'um_name'\n",
       "15. 'mp_month'\n",
       "16. 'mp_year'\n",
       "17. 'mp_price'\n",
       "18. 'mp_commoditysource'\n",
       "\n",
       "\n"
      ],
      "text/plain": [
       " [1] \"adm0_id\"            \"adm0_name\"          \"adm1_id\"           \n",
       " [4] \"adm1_name\"          \"mkt_id\"             \"mkt_name\"          \n",
       " [7] \"cm_id\"              \"cm_name\"            \"cur_id\"            \n",
       "[10] \"cur_name\"           \"pt_id\"              \"pt_name\"           \n",
       "[13] \"um_id\"              \"um_name\"            \"mp_month\"          \n",
       "[16] \"mp_year\"            \"mp_price\"           \"mp_commoditysource\""
      ]
     },
     "metadata": {},
     "output_type": "display_data"
    }
   ],
   "source": [
    "class(data)\n",
    "names(data)"
   ]
  },
  {
   "cell_type": "code",
   "execution_count": 47,
   "metadata": {
    "vscode": {
     "languageId": "r"
    }
   },
   "outputs": [
    {
     "name": "stderr",
     "output_type": "stream",
     "text": [
      "Warning message in install.packages(\"rlang\"):\n",
      "“installation of package ‘rlang’ had non-zero exit status”\n",
      "Updating HTML index of packages in '.Library'\n",
      "\n",
      "Making 'packages.html' ...\n",
      " done\n",
      "\n"
     ]
    }
   ],
   "source": [
    "\n",
    "# remove.packages('rlang')\n",
    "install.packages('rlang')\n"
   ]
  },
  {
   "cell_type": "code",
   "execution_count": 48,
   "metadata": {
    "vscode": {
     "languageId": "r"
    }
   },
   "outputs": [
    {
     "ename": "ERROR",
     "evalue": "Error: package or namespace load failed for ‘caret’ in loadNamespace(i, c(lib.loc, .libPaths()), versionCheck = vI[[i]]):\n namespace ‘rlang’ 1.0.2 is already loaded, but >= 1.0.3 is required\n",
     "output_type": "error",
     "traceback": [
      "Error: package or namespace load failed for ‘caret’ in loadNamespace(i, c(lib.loc, .libPaths()), versionCheck = vI[[i]]):\n namespace ‘rlang’ 1.0.2 is already loaded, but >= 1.0.3 is required\nTraceback:\n",
      "1. library(caret)",
      "2. tryCatch({\n .     attr(package, \"LibPath\") <- which.lib.loc\n .     ns <- loadNamespace(package, lib.loc)\n .     env <- attachNamespace(ns, pos = pos, deps, exclude, include.only)\n . }, error = function(e) {\n .     P <- if (!is.null(cc <- conditionCall(e))) \n .         paste(\" in\", deparse(cc)[1L])\n .     else \"\"\n .     msg <- gettextf(\"package or namespace load failed for %s%s:\\n %s\", \n .         sQuote(package), P, conditionMessage(e))\n .     if (logical.return && !quietly) \n .         message(paste(\"Error:\", msg), domain = NA)\n .     else stop(msg, call. = FALSE, domain = NA)\n . })",
      "3. tryCatchList(expr, classes, parentenv, handlers)",
      "4. tryCatchOne(expr, names, parentenv, handlers[[1L]])",
      "5. value[[3L]](cond)",
      "6. stop(msg, call. = FALSE, domain = NA)"
     ]
    }
   ],
   "source": [
    "# library(rpart)\n",
    "# library(caret)\n",
    "# head(rice_no_dupes)"
   ]
  },
  {
   "cell_type": "code",
   "execution_count": 54,
   "metadata": {
    "vscode": {
     "languageId": "r"
    }
   },
   "outputs": [],
   "source": [
    "library(rpart.plot)\n"
   ]
  },
  {
   "cell_type": "code",
   "execution_count": null,
   "metadata": {
    "vscode": {
     "languageId": "r"
    }
   },
   "outputs": [
    {
     "ename": "",
     "evalue": "",
     "output_type": "error",
     "traceback": [
      "\u001b[1;31mFailed to start the Kernel. \n",
      "\u001b[1;31mError in loadNamespace(i, c(lib.loc, .libPaths()), versionCheck = vI[[i]]) : \n",
      "\u001b[1;31m  there is no package called ‘rlang’\n",
      "\u001b[1;31mCalls: loadNamespace ... loadNamespace -> withRestarts -> withOneRestart -> doWithOneRestart\n",
      "\u001b[1;31mExecution halted. \n",
      "\u001b[1;31mView Jupyter <a href='command:jupyter.viewOutput'>log</a> for further details."
     ]
    }
   ],
   "source": [
    "# trainIdx <- createDataPartition()\n",
    "library(caret)"
   ]
  },
  {
   "cell_type": "code",
   "execution_count": null,
   "metadata": {
    "vscode": {
     "languageId": "r"
    }
   },
   "outputs": [],
   "source": []
  },
  {
   "cell_type": "code",
   "execution_count": null,
   "metadata": {
    "vscode": {
     "languageId": "r"
    }
   },
   "outputs": [],
   "source": []
  },
  {
   "cell_type": "code",
   "execution_count": null,
   "metadata": {
    "vscode": {
     "languageId": "r"
    }
   },
   "outputs": [],
   "source": []
  },
  {
   "cell_type": "code",
   "execution_count": null,
   "metadata": {
    "vscode": {
     "languageId": "r"
    }
   },
   "outputs": [],
   "source": []
  }
 ],
 "metadata": {
  "kernelspec": {
   "display_name": "R",
   "language": "R",
   "name": "ir"
  },
  "language_info": {
   "codemirror_mode": {
    "name": "ipython",
    "version": 3
   },
   "file_extension": ".py",
   "mimetype": "text/x-python",
   "name": "R",
   "nbconvert_exporter": "python",
   "pygments_lexer": "ipython3",
   "version": "3.10.6"
  },
  "orig_nbformat": 4,
  "vscode": {
   "interpreter": {
    "hash": "6f43d92dc8bb316640e99ffbcd335d2db275ce746437b10e9a29175acff34082"
   }
  }
 },
 "nbformat": 4,
 "nbformat_minor": 2
}
